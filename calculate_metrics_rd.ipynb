{
 "cells": [
  {
   "cell_type": "code",
   "metadata": {
    "ExecuteTime": {
     "end_time": "2024-11-10T20:01:06.641110Z",
     "start_time": "2024-11-10T20:01:06.020410Z"
    }
   },
   "source": [
    "import os\n",
    "import json\n",
    "import pandas as pd\n",
    "import numpy as np\n",
    "import matplotlib.pyplot as plt"
   ],
   "outputs": [],
   "execution_count": 2
  },
  {
   "metadata": {
    "ExecuteTime": {
     "end_time": "2024-11-10T20:01:16.823690Z",
     "start_time": "2024-11-10T20:01:16.814958Z"
    }
   },
   "cell_type": "code",
   "source": [
    "# Define the paths to the folders\n",
    "pairwise_folder = './extracted/exploring_extreme_parameter_compression_for_pre-trained_language_models/pairwise/'\n",
    "summarised_folder = './extracted/exploring_extreme_parameter_compression_for_pre-trained_language_models/summarised/'\n",
    "\n",
    "# Create empty lists to store data\n",
    "pairwise_data = []\n",
    "summarised_data = []\n",
    "\n",
    "# Load pairwise JSONs into a dictionary with filenames as keys (without extensions)\n",
    "for filename in os.listdir(pairwise_folder):\n",
    "    if filename.endswith('.json'):\n",
    "        with open(os.path.join(pairwise_folder, filename)) as f:\n",
    "            data = json.load(f)\n",
    "            pairwise_df = pd.DataFrame(data)\n",
    "            pairwise_data.append((filename.replace('.json', ''), len(pairwise_df.axes[1])))\n",
    "\n",
    "# Load summarised JSONs into a dictionary with filenames as keys (without extensions)\n",
    "for filename in os.listdir(summarised_folder):\n",
    "    if filename.endswith('.json'):\n",
    "        with open(os.path.join(summarised_folder, filename)) as f:\n",
    "            data = json.load(f)\n",
    "            summarized_df = pd.DataFrame(data)\n",
    "            summarised_data.append((filename.replace('.json', ''), len(summarized_df.axes[1])))\n",
    "\n",
    "# Convert to Array\n",
    "summarised_data = np.array(summarised_data, dtype=[('model', 'U20'), ('value', 'i4')])\n",
    "pairwise_data = np.array(pairwise_data, dtype=[('model_pair', 'U20'), ('value', 'i4')])"
   ],
   "outputs": [],
   "execution_count": 4
  },
  {
   "cell_type": "code",
   "metadata": {
    "ExecuteTime": {
     "end_time": "2024-11-10T20:03:44.266008Z",
     "start_time": "2024-11-10T20:03:44.254840Z"
    }
   },
   "source": [
    "# Prepare Dataframe for summarized and pairwise comments for each folder\n",
    "pairwise_data = []\n",
    "summarised_data = []\n",
    "\n",
    "# Define the path to the bigger parent folder\n",
    "bigger_parent_folder = \"./extracted\"\n",
    "\n",
    "# Dictionary to store data for each parent folder\n",
    "extracted_data = {}\n",
    "\n",
    "# Walk through only directories directly under the bigger parent folder\n",
    "for parent_folder in os.listdir(bigger_parent_folder):\n",
    "    parent_folder_path = os.path.join(bigger_parent_folder, parent_folder)\n",
    "    \n",
    "    # Ensure we're only processing directories\n",
    "    if os.path.isdir(parent_folder_path):\n",
    "        # Initialize dictionary entry for each parent folder\n",
    "        extracted_data[parent_folder] = {'pairwise': [], 'summarised': []}\n",
    "        \n",
    "        # Check if 'pairwise' folder exists in the current parent folder\n",
    "        pairwise_folder_path = os.path.join(parent_folder_path, 'pairwise')\n",
    "        if os.path.isdir(pairwise_folder_path):\n",
    "            for filename in os.listdir(pairwise_folder_path):\n",
    "                if filename.endswith('.json'):\n",
    "                    filepath = os.path.join(pairwise_folder_path, filename)\n",
    "                    with open(filepath) as f:\n",
    "                        data = json.load(f)\n",
    "                        df = pd.DataFrame(data)\n",
    "                        extracted_data[parent_folder]['pairwise'].append(\n",
    "                            (filename.replace('.json', ''), len(df.axes[1]))\n",
    "                        )\n",
    "        \n",
    "        # Check if 'summarised' folder exists in the current parent folder\n",
    "        summarised_folder_path = os.path.join(parent_folder_path, 'summarised')\n",
    "        if os.path.isdir(summarised_folder_path):\n",
    "            for filename in os.listdir(summarised_folder_path):\n",
    "                if filename.endswith('.json'):\n",
    "                    filepath = os.path.join(summarised_folder_path, filename)\n",
    "                    with open(filepath) as f:\n",
    "                        data = json.load(f)\n",
    "                        df = pd.DataFrame(data)\n",
    "                        extracted_data[parent_folder]['summarised'].append(\n",
    "                            (filename.replace('.json', ''), len(df.axes[1]))\n",
    "                        )\n",
    "\n",
    "# Output the collected data for each parent folder\n",
    "print(extracted_data['exploring_extreme_parameter_compression_for_pre-trained_language_models'])"
   ],
   "outputs": [
    {
     "name": "stdout",
     "output_type": "stream",
     "text": [
      "{'pairwise': [('review3-gpt4', 2), ('review1-gemini_pro', 1), ('review2-gpt4', 1), ('review1-gpt4', 0), ('review3-gemini_pro', 2), ('review2-gemini_pro', 2)], 'summarised': [('gemini_pro', 3), ('review1', 2), ('claude_opus', 4), ('review2', 4), ('review3', 5), ('gpt4', 2)]}\n"
     ]
    }
   ],
   "execution_count": 13
  },
  {
   "metadata": {
    "ExecuteTime": {
     "end_time": "2024-11-10T20:04:00.683444Z",
     "start_time": "2024-11-10T20:04:00.675386Z"
    }
   },
   "cell_type": "code",
   "source": [
    "def calculate_hit_rates(summarised_data, pairwise_data):\n",
    "    \"\"\" Hit Rate\n",
    "     |A∩B| |A|\n",
    "\n",
    "    :param summarised_data: \n",
    "    :param pairwise_data: \n",
    "    :return: hit_rate: Proportion of overlapping comments to all comments made by models.\n",
    "    \"\"\"\n",
    "    summarised_data = np.array(summarised_data, dtype=[('model', 'U20'), ('value', 'i4')])\n",
    "    pairwise_data = np.array(pairwise_data, dtype=[('model_pair', 'U20'), ('value', 'i4')])\n",
    "\n",
    "    model_dict = {model: value for model, value in summarised_data}\n",
    "    \n",
    "    ai_models = np.array([model.split('-')[-1] for model in pairwise_data['model_pair']])\n",
    "    divisors = np.vectorize(model_dict.get)(ai_models)\n",
    "\n",
    "    # Perform the division on array2's values by the corresponding divisors\n",
    "    result_values = pairwise_data['value'] / divisors\n",
    "\n",
    "    # Combine model_pair and result_values into a structured array for the result\n",
    "    result = np.array(list(zip(pairwise_data['model_pair'], result_values)),\n",
    "                    dtype=[('model_pair', 'U20'), ('divided_value', 'f4')])\n",
    "    \n",
    "    return result\n",
    "\n",
    "\n",
    "paper_hit_rates = {}\n",
    "\n",
    "for paper in extracted_data:\n",
    "    if extracted_data[paper]['summarised'] and extracted_data[paper]['pairwise']:\n",
    "        hit_rates = calculate_hit_rates(\n",
    "            extracted_data[paper]['summarised'], \n",
    "            extracted_data[paper]['pairwise']\n",
    "        )\n",
    "        paper_hit_rates[paper] = hit_rates\n",
    "    else:\n",
    "        continue\n",
    "\n",
    "paper_hit_rates"
   ],
   "outputs": [
    {
     "data": {
      "text/plain": [
       "{'exploring_extreme_parameter_compression_for_pre-trained_language_models': array([('review3-gpt4', 1.        ), ('review1-gemini_pro', 0.33333334),\n",
       "        ('review2-gpt4', 0.5       ), ('review1-gpt4', 0.        ),\n",
       "        ('review3-gemini_pro', 0.6666667 ),\n",
       "        ('review2-gemini_pro', 0.6666667 )],\n",
       "       dtype=[('model_pair', '<U20'), ('divided_value', '<f4')])}"
      ]
     },
     "execution_count": 14,
     "metadata": {},
     "output_type": "execute_result"
    }
   ],
   "execution_count": 14
  },
  {
   "cell_type": "code",
   "metadata": {
    "ExecuteTime": {
     "end_time": "2024-11-10T20:04:11.793669Z",
     "start_time": "2024-11-10T20:04:11.786076Z"
    }
   },
   "source": [
    "def calculate_sso_coefficients(summarised_data, pairwise_data):\n",
    "    \"\"\" Szymkiewicz–Simpson Overlap Coefficient.\n",
    "     |A ∩ B| / min(|A|, |B|)\n",
    "     \n",
    "    :param summarised_data: \n",
    "    :param pairwise_data: \n",
    "    :return: sso_coefficients: Proportion of matching comments to the minimum of comments made. \n",
    "    \"\"\"\n",
    "    \n",
    "    # Get Individual vs. Overlapping Counts\n",
    "    individual_comments = np.array(summarised_data, dtype=[('model', 'U20'), ('value', 'i4')])\n",
    "    overlapping_comments = np.array(pairwise_data, dtype=[('model_pair', 'U20'), ('value', 'i4')])\n",
    "    individual_dict = {model: value for model, value in individual_comments}\n",
    "    \n",
    "    # Get Matches\n",
    "    model_names = np.array([model.split('-')[-1] for model in overlapping_comments['model_pair']])\n",
    "    reviewer_names = np.array([model.split('-')[0] for model in overlapping_comments['model_pair']])\n",
    "    \n",
    "    # Get Number of available Comments from either \n",
    "    model_counts = np.vectorize(individual_dict.get)(model_names)\n",
    "    reviewer_counts = np.vectorize(individual_dict.get)(reviewer_names)\n",
    "    minimum_counts = np.min([model_counts, reviewer_counts], axis=0)\n",
    "\n",
    "    # Perform the division on array2's values by the corresponding divisors\n",
    "    sso_coefficients = overlapping_comments['value'] / minimum_counts\n",
    "\n",
    "    # Combine model_pair and result_values into a structured array for the result\n",
    "    result = np.array(list(zip(overlapping_comments['model_pair'], sso_coefficients)),\n",
    "                    dtype=[('model_pair', 'U20'), ('divided_value', 'f4')])\n",
    "\n",
    "    return result\n",
    "\n",
    "paper_sso_coefficients = {}\n",
    "\n",
    "for paper in extracted_data:\n",
    "    if extracted_data[paper]['summarised'] and extracted_data[paper]['pairwise']:\n",
    "        sso_coefficients = calculate_sso_coefficients(\n",
    "            extracted_data[paper]['summarised'], \n",
    "            extracted_data[paper]['pairwise']\n",
    "        )\n",
    "        paper_sso_coefficients[paper] = sso_coefficients\n",
    "    else:\n",
    "        continue\n",
    "\n",
    "paper_sso_coefficients"
   ],
   "outputs": [
    {
     "data": {
      "text/plain": [
       "{'exploring_extreme_parameter_compression_for_pre-trained_language_models': array([('review3-gpt4', 1.       ), ('review1-gemini_pro', 0.5      ),\n",
       "        ('review2-gpt4', 0.5      ), ('review1-gpt4', 0.       ),\n",
       "        ('review3-gemini_pro', 0.6666667),\n",
       "        ('review2-gemini_pro', 0.6666667)],\n",
       "       dtype=[('model_pair', '<U20'), ('divided_value', '<f4')])}"
      ]
     },
     "execution_count": 15,
     "metadata": {},
     "output_type": "execute_result"
    }
   ],
   "execution_count": 15
  },
  {
   "metadata": {
    "ExecuteTime": {
     "end_time": "2024-11-10T20:04:36.930543Z",
     "start_time": "2024-11-10T20:04:36.920438Z"
    }
   },
   "cell_type": "code",
   "source": [
    "def calculate_jaccard_indices(summarised_data, pairwise_data):\n",
    "    \"\"\" Jaccard Index \n",
    "    \n",
    "    |A ∩ B| / |A∪B|\n",
    "    \n",
    "    :param summarised_data: \n",
    "    :param pairwise_data: \n",
    "    :return: jaccard_index: Proportion of matching comments to the total amount of comments made (exluding duplicates). \n",
    "    \"\"\"\n",
    "    \n",
    "    # Get Individual vs. Overlapping Counts\n",
    "    individual_comments = np.array(summarised_data, dtype=[('model', 'U20'), ('value', 'i4')])\n",
    "    overlapping_comments = np.array(pairwise_data, dtype=[('model_pair', 'U20'), ('value', 'i4')])\n",
    "    individual_dict = {model: value for model, value in individual_comments}\n",
    "    \n",
    "    # Get Matches\n",
    "    model_names = np.array([model.split('-')[-1] for model in overlapping_comments['model_pair']])\n",
    "    reviewer_names = np.array([model.split('-')[0] for model in overlapping_comments['model_pair']])\n",
    "    \n",
    "    # Get Number of available Comments from either \n",
    "    model_counts = np.vectorize(individual_dict.get)(model_names)\n",
    "    reviewer_counts = np.vectorize(individual_dict.get)(reviewer_names)\n",
    "    total_counts = np.sum([model_counts, reviewer_counts], axis=0)\n",
    "    union_counts = total_counts - overlapping_comments['value']\n",
    "\n",
    "    # Perform the division on array2's values by the corresponding divisors\n",
    "    jaccard_indices = overlapping_comments['value'] / union_counts\n",
    "\n",
    "    # Combine model_pair and result_values into a structured array for the result\n",
    "    result = np.array(list(zip(overlapping_comments['model_pair'], jaccard_indices)),\n",
    "                    dtype=[('model_pair', 'U20'), ('divided_value', 'f4')])\n",
    "\n",
    "    return result\n",
    "\n",
    "paper_jaccard_indices = {}\n",
    "\n",
    "for paper in extracted_data:\n",
    "    if extracted_data[paper]['summarised'] and extracted_data[paper]['pairwise']:\n",
    "        jaccard_indices = calculate_jaccard_indices(\n",
    "            extracted_data[paper]['summarised'], \n",
    "            extracted_data[paper]['pairwise']\n",
    "        )\n",
    "        paper_jaccard_indices[paper] = jaccard_indices\n",
    "    else:\n",
    "        continue\n",
    "\n",
    "paper_jaccard_indices"
   ],
   "outputs": [
    {
     "data": {
      "text/plain": [
       "{'exploring_extreme_parameter_compression_for_pre-trained_language_models': array([('review3-gpt4', 0.4       ), ('review1-gemini_pro', 0.25      ),\n",
       "        ('review2-gpt4', 0.2       ), ('review1-gpt4', 0.        ),\n",
       "        ('review3-gemini_pro', 0.33333334),\n",
       "        ('review2-gemini_pro', 0.4       )],\n",
       "       dtype=[('model_pair', '<U20'), ('divided_value', '<f4')])}"
      ]
     },
     "execution_count": 19,
     "metadata": {},
     "output_type": "execute_result"
    }
   ],
   "execution_count": 19
  },
  {
   "metadata": {
    "ExecuteTime": {
     "end_time": "2024-11-10T20:04:33.295520Z",
     "start_time": "2024-11-10T20:04:33.285597Z"
    }
   },
   "cell_type": "code",
   "source": [
    "def calculate_sd_coefficient(summarised_data, pairwise_data):\n",
    "    \"\"\" Sørensen–Dice Coefficient\n",
    "     2|A∩B| |A| + |B|\n",
    "    \n",
    "    :param summarised_data: \n",
    "    :param pairwise_data: \n",
    "    :return: sd_coefficient: Proportion of twice the matching comments in respect to the sum of all comments made (including duplicates).\n",
    "    \"\"\"\n",
    "    \n",
    "    # Get Individual vs. Overlapping Counts\n",
    "    individual_comments = np.array(summarised_data, dtype=[('model', 'U20'), ('value', 'i4')])\n",
    "    overlapping_comments = np.array(pairwise_data, dtype=[('model_pair', 'U20'), ('value', 'i4')])\n",
    "    individual_dict = {model: value for model, value in individual_comments}\n",
    "    \n",
    "    # Get Matches\n",
    "    model_names = np.array([model.split('-')[-1] for model in overlapping_comments['model_pair']])\n",
    "    reviewer_names = np.array([model.split('-')[0] for model in overlapping_comments['model_pair']])\n",
    "    \n",
    "    # Get Number of available Comments from either \n",
    "    model_counts = np.vectorize(individual_dict.get)(model_names)\n",
    "    reviewer_counts = np.vectorize(individual_dict.get)(reviewer_names)\n",
    "    total_counts = np.sum([model_counts, reviewer_counts], axis=0)\n",
    "\n",
    "    # Perform the division on array2's values by the corresponding divisors\n",
    "    jaccard_indices = (2 * overlapping_comments['value']) / total_counts\n",
    "\n",
    "    # Combine model_pair and result_values into a structured array for the result\n",
    "    result = np.array(list(zip(overlapping_comments['model_pair'], jaccard_indices)),\n",
    "                    dtype=[('model_pair', 'U20'), ('divided_value', 'f4')])\n",
    "\n",
    "    return result\n",
    "\n",
    "paper_sd_coefficients = {}\n",
    "\n",
    "for paper in extracted_data:\n",
    "    if extracted_data[paper]['summarised'] and extracted_data[paper]['pairwise']:\n",
    "        sd_coefficients = calculate_sd_coefficient(\n",
    "            extracted_data[paper]['summarised'], \n",
    "            extracted_data[paper]['pairwise']\n",
    "        )\n",
    "        paper_sd_coefficients[paper] = sd_coefficients\n",
    "    else:\n",
    "        continue\n",
    "\n",
    "paper_sd_coefficients"
   ],
   "outputs": [
    {
     "data": {
      "text/plain": [
       "{'exploring_extreme_parameter_compression_for_pre-trained_language_models': array([('review3-gpt4', 0.5714286 ), ('review1-gemini_pro', 0.4       ),\n",
       "        ('review2-gpt4', 0.33333334), ('review1-gpt4', 0.        ),\n",
       "        ('review3-gemini_pro', 0.5       ),\n",
       "        ('review2-gemini_pro', 0.5714286 )],\n",
       "       dtype=[('model_pair', '<U20'), ('divided_value', '<f4')])}"
      ]
     },
     "execution_count": 18,
     "metadata": {},
     "output_type": "execute_result"
    }
   ],
   "execution_count": 18
  },
  {
   "metadata": {
    "ExecuteTime": {
     "end_time": "2024-11-10T20:15:35.736408Z",
     "start_time": "2024-11-10T20:15:35.732106Z"
    }
   },
   "cell_type": "code",
   "source": [
    "# Combine all dictionaries\n",
    "all_metrics = {}\n",
    "\n",
    "# Assuming the paper names are consistent across all dictionaries\n",
    "for paper_name in paper_hit_rates.keys():\n",
    "    # Initialize the nested dictionary for each paper\n",
    "    all_metrics[paper_name] = {}\n",
    "    \n",
    "    # Populate hit_rate values\n",
    "    for model_pair, hit_rate in paper_hit_rates[paper_name]:\n",
    "        all_metrics[paper_name][model_pair] = {'hit_rate': hit_rate}\n",
    "    \n",
    "    # Populate sso_coefficient values\n",
    "    for model_pair, sso in paper_sso_coefficients[paper_name]:\n",
    "        all_metrics[paper_name][model_pair]['sso_coefficient'] = sso\n",
    "    \n",
    "    # Populate jaccard_index values\n",
    "    for model_pair, jaccard in paper_jaccard_indices[paper_name]:\n",
    "        all_metrics[paper_name][model_pair]['jaccard_index'] = jaccard\n",
    "    \n",
    "    # Populate sd_coefficient values\n",
    "    for model_pair, sd in paper_sd_coefficients[paper_name]:\n",
    "        all_metrics[paper_name][model_pair]['sd_coefficient'] = sd\n",
    "\n",
    "all_metrics"
   ],
   "outputs": [
    {
     "data": {
      "text/plain": [
       "{'exploring_extreme_parameter_compression_for_pre-trained_language_models': {'review3-gpt4': {'hit_rate': 1.0,\n",
       "   'sso_coefficient': 1.0,\n",
       "   'jaccard_index': 0.4,\n",
       "   'sd_coefficient': 0.5714286},\n",
       "  'review1-gemini_pro': {'hit_rate': 0.33333334,\n",
       "   'sso_coefficient': 0.5,\n",
       "   'jaccard_index': 0.25,\n",
       "   'sd_coefficient': 0.4},\n",
       "  'review2-gpt4': {'hit_rate': 0.5,\n",
       "   'sso_coefficient': 0.5,\n",
       "   'jaccard_index': 0.2,\n",
       "   'sd_coefficient': 0.33333334},\n",
       "  'review1-gpt4': {'hit_rate': 0.0,\n",
       "   'sso_coefficient': 0.0,\n",
       "   'jaccard_index': 0.0,\n",
       "   'sd_coefficient': 0.0},\n",
       "  'review3-gemini_pro': {'hit_rate': 0.6666667,\n",
       "   'sso_coefficient': 0.6666667,\n",
       "   'jaccard_index': 0.33333334,\n",
       "   'sd_coefficient': 0.5},\n",
       "  'review2-gemini_pro': {'hit_rate': 0.6666667,\n",
       "   'sso_coefficient': 0.6666667,\n",
       "   'jaccard_index': 0.4,\n",
       "   'sd_coefficient': 0.5714286}}}"
      ]
     },
     "execution_count": 26,
     "metadata": {},
     "output_type": "execute_result"
    }
   ],
   "execution_count": 26
  },
  {
   "metadata": {
    "jupyter": {
     "is_executing": true
    }
   },
   "cell_type": "code",
   "source": [
    "# Initialize a dictionary to hold the sums and counts for each metric\n",
    "metrics_sums = {}\n",
    "metrics_counts = {}\n",
    "\n",
    "# Sum up each metric for each model and count occurrences\n",
    "for paper, reviews in all_metrics.items():\n",
    "    for model_pair, metrics in reviews.items():\n",
    "        if model_pair not in metrics_sums:\n",
    "            metrics_sums[model_pair] = {'hit_rate': 0, 'sso_coefficient': 0, 'jaccard_index': 0, 'sd_coefficient': 0}\n",
    "            metrics_counts[model_pair] = 0\n",
    "        # Add each metric to the sum\n",
    "        for metric, value in metrics.items():\n",
    "            metrics_sums[model_pair][metric] += value\n",
    "        metrics_counts[model_pair] += 1\n",
    "\n",
    "# Calculate the average for each metric per model\n",
    "averages = {model_pair: {metric: metrics_sums[model_pair][metric] / metrics_counts[model_pair]\n",
    "                         for metric in metrics_sums[model_pair]}\n",
    "            for model_pair in metrics_sums}\n",
    "\n",
    "# Plot the results\n",
    "metric_names = list(next(iter(averages.values())).keys())  # Get metric names from any model\n",
    "num_metrics = len(metric_names)\n",
    "model_pairs = list(averages.keys())\n",
    "num_models = len(model_pairs)\n",
    "\n",
    "# Set up the plot\n",
    "fig, ax = plt.subplots(figsize=(10, 6))\n",
    "width = 0.15  # Width of each bar\n",
    "x = np.arange(num_metrics)  # x locations for the groups of metrics\n",
    "\n",
    "# Plot each model's metrics\n",
    "for i, model_pair in enumerate(model_pairs):\n",
    "    metric_values = [averages[model_pair][metric] for metric in metric_names]\n",
    "    ax.bar(x + i * width, metric_values, width, label=model_pair)\n",
    "\n",
    "# Add labels and formatting\n",
    "ax.set_xlabel('Metrics')\n",
    "ax.set_ylabel('Average Values')\n",
    "ax.set_title('Average Metric Values per Model')\n",
    "ax.set_xticks(x + width * (num_models - 1) / 2)\n",
    "ax.set_xticklabels(metric_names)\n",
    "ax.legend(title='Model Pair')\n",
    "plt.tight_layout()\n",
    "plt.show()"
   ],
   "outputs": [],
   "execution_count": null
  },
  {
   "metadata": {},
   "cell_type": "markdown",
   "source": ""
  },
  {
   "cell_type": "code",
   "metadata": {
    "ExecuteTime": {
     "end_time": "2024-11-10T19:42:04.268821Z",
     "start_time": "2024-11-10T19:42:04.263906Z"
    }
   },
   "source": [
    "def plot_average_hit_rate(data, model_key):\n",
    "    # Extract the model pairs and values\n",
    "    records = data[model_key]\n",
    "    \n",
    "    # Separate hit rates for gemini_pro and gpt4\n",
    "    gemini_pro_values = [record['divided_value'] for record in records if 'gemini_pro' in record['model_pair']]\n",
    "    gpt4_values = [record['divided_value'] for record in records if 'gpt4' in record['model_pair']]\n",
    "    \n",
    "    # Calculate average hit rates\n",
    "    avg_gemini_pro = np.mean(gemini_pro_values) if gemini_pro_values else 0\n",
    "    avg_gpt4 = np.mean(gpt4_values) if gpt4_values else 0\n",
    "    \n",
    "    # Plot bar graph\n",
    "    models = ['gemini_pro', 'gpt4']\n",
    "    averages = [avg_gemini_pro, avg_gpt4]\n",
    "    \n",
    "    plt.figure(figsize=(8, 5))\n",
    "    plt.bar(models, averages, color=['blue', 'green'])\n",
    "    plt.xlabel('AI Model')\n",
    "    plt.ylabel('Average Hit Rate')\n",
    "    plt.title(f'Average Hit Rate for Reviews - {model_key}')\n",
    "    plt.ylim(0, 1)  # assuming hit rate is between 0 and 1\n",
    "    \n",
    "    # Display the average values on the bars\n",
    "    for i, avg in enumerate(averages):\n",
    "        plt.text(i, avg + 0.05, f\"{avg:.2f}\", ha='center', fontsize=12)\n",
    "    \n",
    "    plt.show()\n",
    "\n",
    "def plot_average_hit_rate_across_papers(data):\n",
    "    # Lists to aggregate hit rates for gemini_pro and gpt4 across all papers\n",
    "    gemini_pro_values = []\n",
    "    gpt4_values = []\n",
    "    \n",
    "    # Iterate over each paper's data\n",
    "    for _, records in data.items():\n",
    "        # Collect values for gemini_pro and gpt4\n",
    "        gemini_pro_values.extend([record['divided_value'] for record in records if 'gemini_pro' in record['model_pair']])\n",
    "        gpt4_values.extend([record['divided_value'] for record in records if 'gpt4' in record['model_pair']])\n",
    "    \n",
    "    # Calculate average hit rates across all papers\n",
    "    avg_gemini_pro = np.mean(gemini_pro_values) * 100 if gemini_pro_values else 0  # Multiply by 100\n",
    "    avg_gpt4 = np.mean(gpt4_values) * 100 if gpt4_values else 0  # Multiply by 100\n",
    "    \n",
    "    # Plot bar graph\n",
    "    models = ['gemini_pro', 'gpt4']\n",
    "    averages = [avg_gemini_pro, avg_gpt4]\n",
    "    \n",
    "    plt.figure(figsize=(8, 5))\n",
    "    plt.bar(models, averages, color=['blue', 'green'])\n",
    "    plt.xlabel('AI Model')\n",
    "    plt.ylabel('Average Hit Rate (%)')\n",
    "    plt.title('Retrospective overlap analysis of ML models across all papers')\n",
    "    plt.ylim(0, 100)  # y-axis from 0 to 100\n",
    "    \n",
    "    # Display the average values on the bars\n",
    "    for i, avg in enumerate(averages):\n",
    "        plt.text(i, avg + 2, f\"{avg:.2f}%\", ha='center', fontsize=12)\n",
    "    \n",
    "    plt.show()\n"
   ],
   "outputs": [],
   "execution_count": 15
  },
  {
   "cell_type": "code",
   "metadata": {
    "ExecuteTime": {
     "end_time": "2024-11-10T19:42:04.327259Z",
     "start_time": "2024-11-10T19:42:04.269492Z"
    }
   },
   "source": "plot_average_hit_rate_across_papers(paper_sso_coefficients)",
   "outputs": [
    {
     "data": {
      "text/plain": [
       "<Figure size 800x500 with 1 Axes>"
      ],
      "image/png": "[encoded data removed]"
     },
     "metadata": {},
     "output_type": "display_data"
    }
   ],
   "execution_count": 16
  },
  {
   "metadata": {
    "ExecuteTime": {
     "end_time": "2024-11-10T19:42:04.337549Z",
     "start_time": "2024-11-10T19:42:04.328011Z"
    }
   },
   "cell_type": "code",
   "source": "",
   "outputs": [],
   "execution_count": 16
  }
 ],
 "metadata": {
  "kernelspec": {
   "display_name": "base",
   "language": "python",
   "name": "python3"
  },
  "language_info": {
   "codemirror_mode": {
    "name": "ipython",
    "version": 3
   },
   "file_extension": ".py",
   "mimetype": "text/x-python",
   "name": "python",
   "nbconvert_exporter": "python",
   "pygments_lexer": "ipython3",
   "version": "3.10.13"
  }
 },
 "nbformat": 4,
 "nbformat_minor": 2
}
