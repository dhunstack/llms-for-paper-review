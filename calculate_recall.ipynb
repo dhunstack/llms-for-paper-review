{
 "cells": [
  {
   "cell_type": "code",
   "execution_count": 58,
   "metadata": {},
   "outputs": [],
   "source": [
    "import pandas as pd\n",
    "import json\n",
    "import os\n",
    "import matplotlib.pyplot as plt"
   ]
  },
  {
   "cell_type": "code",
   "execution_count": 59,
   "metadata": {},
   "outputs": [],
   "source": [
    "def calculate_recall(pairwise_df, review_df, similarity_threshold):\n",
    "\n",
    "    if pairwise_df.empty:\n",
    "        return 0\n",
    "\n",
    "    # Filter pairwise_df based on similarity threshold\n",
    "    relevant_matches = pairwise_df[pairwise_df['similarity'] >= similarity_threshold]\n",
    "\n",
    "    # Calculate recall\n",
    "    total_points_human_review = len(review_df)  \n",
    "    recall = len(relevant_matches) / total_points_human_review if total_points_human_review > 0 else 0\n",
    "\n",
    "    return recall"
   ]
  },
  {
   "cell_type": "code",
   "execution_count": 60,
   "metadata": {},
   "outputs": [
    {
     "data": {
      "text/html": [
       "<div>\n",
       "<style scoped>\n",
       "    .dataframe tbody tr th:only-of-type {\n",
       "        vertical-align: middle;\n",
       "    }\n",
       "\n",
       "    .dataframe tbody tr th {\n",
       "        vertical-align: top;\n",
       "    }\n",
       "\n",
       "    .dataframe thead th {\n",
       "        text-align: right;\n",
       "    }\n",
       "</style>\n",
       "<table border=\"1\" class=\"dataframe\">\n",
       "  <thead>\n",
       "    <tr style=\"text-align: right;\">\n",
       "      <th></th>\n",
       "      <th>summary</th>\n",
       "      <th>verbatim</th>\n",
       "    </tr>\n",
       "  </thead>\n",
       "  <tbody>\n",
       "    <tr>\n",
       "      <th>1</th>\n",
       "      <td>The model size reported does not include the e...</td>\n",
       "      <td>The authors do not include embedding layer and...</td>\n",
       "    </tr>\n",
       "    <tr>\n",
       "      <th>2</th>\n",
       "      <td>Limited experimental comparison with other rel...</td>\n",
       "      <td>The authors name a lot of related works, but c...</td>\n",
       "    </tr>\n",
       "  </tbody>\n",
       "</table>\n",
       "</div>"
      ],
      "text/plain": [
       "                                             summary  \\\n",
       "1  The model size reported does not include the e...   \n",
       "2  Limited experimental comparison with other rel...   \n",
       "\n",
       "                                            verbatim  \n",
       "1  The authors do not include embedding layer and...  \n",
       "2  The authors name a lot of related works, but c...  "
      ]
     },
     "execution_count": 60,
     "metadata": {},
     "output_type": "execute_result"
    }
   ],
   "source": [
    "# Dictionary to store data for each parent folder\n",
    "bigger_parent_folder = \"./extracted\"\n",
    "\n",
    "extracted_data = {}\n",
    "\n",
    "# Walk through only directories directly under the bigger parent folder\n",
    "for parent_folder in os.listdir(bigger_parent_folder):\n",
    "    parent_folder_path = os.path.join(bigger_parent_folder, parent_folder)\n",
    "    \n",
    "    # Ensure we're only processing directories\n",
    "    if os.path.isdir(parent_folder_path):\n",
    "        # Initialize dictionary entry for each parent folder\n",
    "        extracted_data[parent_folder] = {'pairwise': {}, 'summarised': {}}\n",
    "        \n",
    "        # Check if 'pairwise' folder exists in the current parent folder\n",
    "        pairwise_folder_path = os.path.join(parent_folder_path, 'pairwise')\n",
    "        if os.path.isdir(pairwise_folder_path):\n",
    "            for filename in os.listdir(pairwise_folder_path):\n",
    "                if filename.endswith('.json'):\n",
    "                    filepath = os.path.join(pairwise_folder_path, filename)\n",
    "                    with open(filepath) as f:\n",
    "                        data = json.load(f)\n",
    "                        df = pd.DataFrame(data).T\n",
    "                        extracted_data[parent_folder]['pairwise'][filename.replace('.json', '')] = df\n",
    "\n",
    "        \n",
    "        # Check if 'summarised' folder exists in the current parent folder\n",
    "        summarised_folder_path = os.path.join(parent_folder_path, 'summarised')\n",
    "        if os.path.isdir(summarised_folder_path):\n",
    "            for filename in os.listdir(summarised_folder_path):\n",
    "                if filename.endswith('.json'):\n",
    "                    filepath = os.path.join(summarised_folder_path, filename)\n",
    "                    with open(filepath) as f:\n",
    "                        data = json.load(f)\n",
    "                        df = pd.DataFrame(data).T\n",
    "                        extracted_data[parent_folder]['summarised'][filename.replace('.json', '')] = df\n",
    "\n",
    "# Output the collected data for each parent folder\n",
    "extracted_data['exploring_extreme_parameter_compression_for_pre-trained_language_models']['summarised']['review1']\n"
   ]
  },
  {
   "cell_type": "code",
   "execution_count": 61,
   "metadata": {},
   "outputs": [],
   "source": [
    "def all_pairwise_recall(extracted_data, similarity_threshold):\n",
    "    pairwise_recall = {}\n",
    "\n",
    "    for paper in extracted_data:\n",
    "        pairwise_dfs = extracted_data[paper]['pairwise']\n",
    "        summarised_dfs = extracted_data[paper]['summarised']\n",
    "        pairwise_recall[paper] = {}\n",
    "\n",
    "        for pair in pairwise_dfs:\n",
    "            pair_human_review = pair.split('-')[0]\n",
    "            for summary in summarised_dfs:\n",
    "                if (summary == pair_human_review):\n",
    "                    recall = calculate_recall(pairwise_dfs[pair], summarised_dfs[summary], similarity_threshold)\n",
    "                    pairwise_recall[paper][pair] = recall\n",
    "\n",
    "    return pairwise_recall\n",
    "\n",
    "def plot_average_recall(data):\n",
    "    # Initialize variables to calculate averages for each model\n",
    "    gpt4_recalls = []\n",
    "    gemini_pro_recalls = []\n",
    "\n",
    "    # Extract recall values by model\n",
    "    for _, reviews in data.items():\n",
    "        for review, recall in reviews.items():\n",
    "            if 'gpt4' in review:\n",
    "                gpt4_recalls.append(recall)\n",
    "            elif 'gemini_pro' in review:\n",
    "                gemini_pro_recalls.append(recall)\n",
    "\n",
    "    # Calculate average recall for each model and convert to percentage\n",
    "    avg_gpt4_recall = (sum(gpt4_recalls) / len(gpt4_recalls) * 100) if gpt4_recalls else 0\n",
    "    avg_gemini_pro_recall = (sum(gemini_pro_recalls) / len(gemini_pro_recalls) * 100) if gemini_pro_recalls else 0\n",
    "\n",
    "    # Plotting\n",
    "    models = ['GPT-4', 'Gemini Pro']\n",
    "    avg_recalls = [avg_gpt4_recall, avg_gemini_pro_recall]\n",
    "\n",
    "    plt.figure(figsize=(8, 6))\n",
    "    bars = plt.bar(models, avg_recalls, color=['skyblue', 'salmon'])\n",
    "    plt.ylabel(\"Average Recall (%)\")\n",
    "    plt.title(\"Average Recall by AI Model\")\n",
    "    plt.ylim(0, 100)  # Set y-axis to percentage range\n",
    "\n",
    "    # Display exact values above bars\n",
    "    for bar, value in zip(bars, avg_recalls):\n",
    "        plt.text(bar.get_x() + bar.get_width() / 2, bar.get_height() + 2, f'{value:.2f}%', \n",
    "                 ha='center', va='bottom', fontsize=10)\n",
    "\n",
    "    plt.show()"
   ]
  },
  {
   "cell_type": "code",
   "execution_count": 62,
   "metadata": {},
   "outputs": [],
   "source": [
    "all_recall = all_pairwise_recall(extracted_data, 0.7)"
   ]
  },
  {
   "cell_type": "code",
   "execution_count": 63,
   "metadata": {},
   "outputs": [
    {
     "data": {
      "image/png": "[encoded data removed]",
      "text/plain": [
       "<Figure size 800x600 with 1 Axes>"
      ]
     },
     "metadata": {},
     "output_type": "display_data"
    }
   ],
   "source": [
    "plot_average_recall(all_recall)"
   ]
  },
  {
   "cell_type": "code",
   "execution_count": null,
   "metadata": {},
   "outputs": [],
   "source": []
  }
 ],
 "metadata": {
  "kernelspec": {
   "display_name": "base",
   "language": "python",
   "name": "python3"
  },
  "language_info": {
   "codemirror_mode": {
    "name": "ipython",
    "version": 3
   },
   "file_extension": ".py",
   "mimetype": "text/x-python",
   "name": "python",
   "nbconvert_exporter": "python",
   "pygments_lexer": "ipython3",
   "version": "3.10.13"
  }
 },
 "nbformat": 4,
 "nbformat_minor": 2
}
