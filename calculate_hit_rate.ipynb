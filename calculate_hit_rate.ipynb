{
 "cells": [
  {
   "cell_type": "code",
   "execution_count": 83,
   "metadata": {},
   "outputs": [],
   "source": [
    "import os\n",
    "import json\n",
    "import pandas as pd\n",
    "import numpy as np\n",
    "import matplotlib.pyplot as plt"
   ]
  },
  {
   "cell_type": "code",
   "execution_count": 84,
   "metadata": {},
   "outputs": [],
   "source": [
    "def calculate_hit_rate(summarised_data, pairwise_data):\n",
    "    summarised_data = np.array(summarised_data, dtype=[('model', 'U20'), ('value', 'i4')])\n",
    "    pairwise_data = np.array(pairwise_data, dtype=[('model_pair', 'U20'), ('value', 'i4')])\n",
    "\n",
    "    model_dict = {model: value for model, value in summarised_data}\n",
    "    \n",
    "    ai_models = np.array([model.split('-')[-1] for model in pairwise_data['model_pair']])\n",
    "    divisors = np.vectorize(model_dict.get)(ai_models)\n",
    "\n",
    "    # Perform the division on array2's values by the corresponding divisors\n",
    "    result_values = pairwise_data['value'] / divisors\n",
    "\n",
    "    # Combine model_pair and result_values into a structured array for the result\n",
    "    result = np.array(list(zip(pairwise_data['model_pair'], result_values)),\n",
    "                    dtype=[('model_pair', 'U20'), ('divided_value', 'f4')])\n",
    "    \n",
    "    return result"
   ]
  },
  {
   "cell_type": "code",
   "execution_count": 85,
   "metadata": {},
   "outputs": [
    {
     "name": "stdout",
     "output_type": "stream",
     "text": [
      "{'pairwise': [('review3-gpt4', 2), ('review1-gemini_pro', 1), ('review2-gpt4', 1), ('review1-gpt4', 0), ('review3-gemini_pro', 2), ('review2-gemini_pro', 2)], 'summarised': [('gemini_pro', 3), ('review1', 2), ('claude_opus', 4), ('review2', 4), ('review3', 5), ('gpt4', 2)]}\n"
     ]
    }
   ],
   "source": [
    "# Hit rate for all extracted papers\n",
    "\n",
    "pairwise_data = []\n",
    "summarised_data = []\n",
    "\n",
    "# Define the path to the bigger parent folder\n",
    "bigger_parent_folder = \"./extracted\"\n",
    "\n",
    "# Dictionary to store data for each parent folder\n",
    "extracted_data = {}\n",
    "\n",
    "# Walk through only directories directly under the bigger parent folder\n",
    "for parent_folder in os.listdir(bigger_parent_folder):\n",
    "    parent_folder_path = os.path.join(bigger_parent_folder, parent_folder)\n",
    "    \n",
    "    # Ensure we're only processing directories\n",
    "    if os.path.isdir(parent_folder_path):\n",
    "        # Initialize dictionary entry for each parent folder\n",
    "        extracted_data[parent_folder] = {'pairwise': [], 'summarised': []}\n",
    "        \n",
    "        # Check if 'pairwise' folder exists in the current parent folder\n",
    "        pairwise_folder_path = os.path.join(parent_folder_path, 'pairwise')\n",
    "        if os.path.isdir(pairwise_folder_path):\n",
    "            for filename in os.listdir(pairwise_folder_path):\n",
    "                if filename.endswith('.json'):\n",
    "                    filepath = os.path.join(pairwise_folder_path, filename)\n",
    "                    with open(filepath) as f:\n",
    "                        data = json.load(f)\n",
    "                        df = pd.DataFrame(data)\n",
    "                        extracted_data[parent_folder]['pairwise'].append(\n",
    "                            (filename.replace('.json', ''), len(df.axes[1]))\n",
    "                        )\n",
    "        \n",
    "        # Check if 'summarised' folder exists in the current parent folder\n",
    "        summarised_folder_path = os.path.join(parent_folder_path, 'summarised')\n",
    "        if os.path.isdir(summarised_folder_path):\n",
    "            for filename in os.listdir(summarised_folder_path):\n",
    "                if filename.endswith('.json'):\n",
    "                    filepath = os.path.join(summarised_folder_path, filename)\n",
    "                    with open(filepath) as f:\n",
    "                        data = json.load(f)\n",
    "                        df = pd.DataFrame(data)\n",
    "                        extracted_data[parent_folder]['summarised'].append(\n",
    "                            (filename.replace('.json', ''), len(df.axes[1]))\n",
    "                        )\n",
    "\n",
    "# Output the collected data for each parent folder\n",
    "print(extracted_data['exploring_extreme_parameter_compression_for_pre-trained_language_models'])"
   ]
  },
  {
   "cell_type": "code",
   "execution_count": 86,
   "metadata": {},
   "outputs": [
    {
     "data": {
      "text/plain": [
       "{'exploring_extreme_parameter_compression_for_pre-trained_language_models': array([('review3-gpt4', 1.        ), ('review1-gemini_pro', 0.33333334),\n",
       "        ('review2-gpt4', 0.5       ), ('review1-gpt4', 0.        ),\n",
       "        ('review3-gemini_pro', 0.6666667 ),\n",
       "        ('review2-gemini_pro', 0.6666667 )],\n",
       "       dtype=[('model_pair', '<U20'), ('divided_value', '<f4')])}"
      ]
     },
     "execution_count": 86,
     "metadata": {},
     "output_type": "execute_result"
    }
   ],
   "source": [
    "paper_hit_rates = {}\n",
    "\n",
    "for paper in extracted_data:\n",
    "    if extracted_data[paper]['summarised'] and extracted_data[paper]['pairwise']:\n",
    "        hit_rates = calculate_hit_rate(extracted_data[paper]['summarised'], extracted_data[paper]['pairwise'])\n",
    "        paper_hit_rates[paper] = hit_rates\n",
    "    else:\n",
    "        continue\n",
    "\n",
    "paper_hit_rates"
   ]
  },
  {
   "cell_type": "code",
   "execution_count": null,
   "metadata": {},
   "outputs": [],
   "source": [
    "def plot_average_hit_rate(data, model_key):\n",
    "    # Extract the model pairs and values\n",
    "    records = data[model_key]\n",
    "    \n",
    "    # Separate hit rates for gemini_pro and gpt4\n",
    "    gemini_pro_values = [record['divided_value'] for record in records if 'gemini_pro' in record['model_pair']]\n",
    "    gpt4_values = [record['divided_value'] for record in records if 'gpt4' in record['model_pair']]\n",
    "    \n",
    "    # Calculate average hit rates\n",
    "    avg_gemini_pro = np.mean(gemini_pro_values) if gemini_pro_values else 0\n",
    "    avg_gpt4 = np.mean(gpt4_values) if gpt4_values else 0\n",
    "    \n",
    "    # Plot bar graph\n",
    "    models = ['gemini_pro', 'gpt4']\n",
    "    averages = [avg_gemini_pro, avg_gpt4]\n",
    "    \n",
    "    plt.figure(figsize=(8, 5))\n",
    "    plt.bar(models, averages, color=['blue', 'green'])\n",
    "    plt.xlabel('AI Model')\n",
    "    plt.ylabel('Average Hit Rate')\n",
    "    plt.title(f'Average Hit Rate for Reviews - {model_key}')\n",
    "    plt.ylim(0, 1)  # assuming hit rate is between 0 and 1\n",
    "    \n",
    "    # Display the average values on the bars\n",
    "    for i, avg in enumerate(averages):\n",
    "        plt.text(i, avg + 0.05, f\"{avg:.2f}\", ha='center', fontsize=12)\n",
    "    \n",
    "    plt.show()\n",
    "\n",
    "def plot_average_hit_rate_across_papers(data):\n",
    "    # Lists to aggregate hit rates for gemini_pro and gpt4 across all papers\n",
    "    gemini_pro_values = []\n",
    "    gpt4_values = []\n",
    "    \n",
    "    # Iterate over each paper's data\n",
    "    for _, records in data.items():\n",
    "        # Collect values for gemini_pro and gpt4\n",
    "        gemini_pro_values.extend([record['divided_value'] for record in records if 'gemini_pro' in record['model_pair']])\n",
    "        gpt4_values.extend([record['divided_value'] for record in records if 'gpt4' in record['model_pair']])\n",
    "    \n",
    "    # Calculate average hit rates across all papers\n",
    "    avg_gemini_pro = np.mean(gemini_pro_values) * 100 if gemini_pro_values else 0  # Multiply by 100\n",
    "    avg_gpt4 = np.mean(gpt4_values) * 100 if gpt4_values else 0  # Multiply by 100\n",
    "    \n",
    "    # Plot bar graph\n",
    "    models = ['gemini_pro', 'gpt4']\n",
    "    averages = [avg_gemini_pro, avg_gpt4]\n",
    "    \n",
    "    plt.figure(figsize=(8, 5))\n",
    "    plt.bar(models, averages, color=['blue', 'green'])\n",
    "    plt.xlabel('AI Model')\n",
    "    plt.ylabel('Hit Rate (%)')\n",
    "    plt.title('Retrospective overlap analysis of ML models across all papers')\n",
    "    plt.ylim(0, 100)  # y-axis from 0 to 100\n",
    "    \n",
    "    # Display the average values on the bars\n",
    "    for i, avg in enumerate(averages):\n",
    "        plt.text(i, avg + 2, f\"{avg:.2f}%\", ha='center', fontsize=12)\n",
    "    \n",
    "    plt.show()\n"
   ]
  },
  {
   "cell_type": "code",
   "execution_count": 88,
   "metadata": {},
   "outputs": [
    {
     "data": {
      "image/png": "[encoded data removed]",
      "text/plain": [
       "<Figure size 800x500 with 1 Axes>"
      ]
     },
     "metadata": {},
     "output_type": "display_data"
    }
   ],
   "source": [
    "plot_average_hit_rate_across_papers(paper_hit_rates)"
   ]
  }
 ],
 "metadata": {
  "kernelspec": {
   "display_name": "base",
   "language": "python",
   "name": "python3"
  },
  "language_info": {
   "codemirror_mode": {
    "name": "ipython",
    "version": 3
   },
   "file_extension": ".py",
   "mimetype": "text/x-python",
   "name": "python",
   "nbconvert_exporter": "python",
   "pygments_lexer": "ipython3",
   "version": "3.10.13"
  }
 },
 "nbformat": 4,
 "nbformat_minor": 2
}
